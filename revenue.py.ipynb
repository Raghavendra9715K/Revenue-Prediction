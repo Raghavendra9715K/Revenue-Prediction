{
 "cells": [
  {
   "cell_type": "code",
   "execution_count": 3,
   "id": "60995dd4",
   "metadata": {},
   "outputs": [
    {
     "name": "stderr",
     "output_type": "stream",
     "text": [
      "C:\\Users\\Raghavendra K\\AppData\\Local\\Temp\\ipykernel_10944\\4287548616.py:8: FutureWarning: The default value of numeric_only in DataFrame.corr is deprecated. In a future version, it will default to False. Select only valid columns or specify the value of numeric_only to silence this warning.\n",
      "  correlation_matrix = df.corr()\n"
     ]
    },
    {
     "name": "stdout",
     "output_type": "stream",
     "text": [
      "Multiple Linear Regression RMSE: 141.0073165240318\n",
      "SVM RMSE: 243.37627628964387\n",
      "Decision Trees RMSE: 141.51064763068942\n"
     ]
    }
   ],
   "source": [
    "import pandas as pd\n",
    "\n",
    "df = pd.read_csv(\"C:/Users/Raghavendra K/Downloads/marketing_data.csv\") \n",
    "# Continue with  selection and PCA\n",
    "\n",
    "correlation_matrix = df.corr()\n",
    "correlation_with_target = correlation_matrix['MntWines'].abs().sort_values(ascending=False)\n",
    "\n",
    "# Select top k variables, e.g., top 10\n",
    "selected_variables = correlation_with_target.head(10).index\n",
    "\n",
    "# Use selected variables for further analysis\n",
    "selected_data = df[selected_variables]\n",
    "from sklearn.decomposition import PCA\n",
    "from sklearn.preprocessing import StandardScaler\n",
    "\n",
    "# Standardize the data\n",
    "scaler = StandardScaler()\n",
    "scaled_data = scaler.fit_transform(selected_data)\n",
    "\n",
    "# Apply PCA\n",
    "pca = PCA()\n",
    "pca.fit(scaled_data)\n",
    "\n",
    "# Determine the number of components to retain (e.g., 5 components)\n",
    "n_components = 5\n",
    "pca_data = pca.transform(scaled_data)[:, :n_components]\n",
    "from sklearn.model_selection import train_test_split\n",
    "from sklearn.linear_model import LinearRegression\n",
    "from sklearn.metrics import mean_squared_error\n",
    "\n",
    "# Split data into train and test sets\n",
    "X_train, X_test, y_train, y_test = train_test_split(pca_data, df['MntWines'], test_size=0.2, random_state=42)\n",
    "\n",
    "# Create and fit the model\n",
    "lr_model = LinearRegression()\n",
    "lr_model.fit(X_train, y_train)\n",
    "\n",
    "# Make predictions\n",
    "lr_predictions = lr_model.predict(X_test)\n",
    "\n",
    "# Evaluate the model\n",
    "lr_rmse = mean_squared_error(y_test, lr_predictions, squared=False)\n",
    "\n",
    "# Inference\n",
    "print(f\"Multiple Linear Regression RMSE: {lr_rmse}\")\n",
    "from sklearn.svm import SVR\n",
    "\n",
    "# Create and fit the model\n",
    "svm_model = SVR()\n",
    "svm_model.fit(X_train, y_train)\n",
    "\n",
    "# Make predictions\n",
    "svm_predictions = svm_model.predict(X_test)\n",
    "\n",
    "# Evaluate the model\n",
    "svm_rmse = mean_squared_error(y_test, svm_predictions, squared=False)\n",
    "\n",
    "# Inference\n",
    "print(f\"SVM RMSE: {svm_rmse}\")\n",
    "from sklearn.tree import DecisionTreeRegressor\n",
    "\n",
    "# Create and fit the model\n",
    "dt_model = DecisionTreeRegressor()\n",
    "dt_model.fit(X_train, y_train)\n",
    "\n",
    "# Make predictions\n",
    "dt_predictions = dt_model.predict(X_test)\n",
    "\n",
    "# Evaluate the model\n",
    "dt_rmse = mean_squared_error(y_test, dt_predictions, squared=False)\n",
    "\n",
    "# Inference\n",
    "print(f\"Decision Trees RMSE: {dt_rmse}\")\n",
    "\n"
   ]
  },
  {
   "cell_type": "code",
   "execution_count": null,
   "id": "7b2aab37",
   "metadata": {},
   "outputs": [],
   "source": []
  }
 ],
 "metadata": {
  "kernelspec": {
   "display_name": "Python 3 (ipykernel)",
   "language": "python",
   "name": "python3"
  },
  "language_info": {
   "codemirror_mode": {
    "name": "ipython",
    "version": 3
   },
   "file_extension": ".py",
   "mimetype": "text/x-python",
   "name": "python",
   "nbconvert_exporter": "python",
   "pygments_lexer": "ipython3",
   "version": "3.11.3"
  }
 },
 "nbformat": 4,
 "nbformat_minor": 5
}
